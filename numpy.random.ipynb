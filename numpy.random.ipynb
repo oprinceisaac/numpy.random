{
 "cells": [
  {
   "cell_type": "markdown",
   "metadata": {},
   "source": [
    "# The numpy.random package\n"
   ]
  },
  {
   "cell_type": "markdown",
   "metadata": {},
   "source": [
    "Overall Purpose This a sub-package of the Numpy Package in Python, the lather being a specialist package for dealing with multidimensional array of data/numbers (lists embedded within lists) in a matrix operation.\n",
    "Numpy.random package effectively deals with the array of number, and generates a simulated data, when it may not be feasible to obtain the actual raw data\n",
    "In [ ]:\n",
    "\n",
    "\n"
   ]
  },
  {
   "cell_type": "code",
   "execution_count": null,
   "metadata": {},
   "outputs": [],
   "source": []
  },
  {
   "cell_type": "markdown",
   "metadata": {},
   "source": [
    "Simple Random Data\n",
    "This is used to generate random data for everyday assignment, based on variuos assumptions. There a ten (10) functions with varying outputs. The first one if the .rand function. This .rand function creates an array of in the given shape and populate it with random samples from a uniform distribution. e.g. (3, 2) or (3,5)"
   ]
  },
  {
   "cell_type": "code",
   "execution_count": 3,
   "metadata": {},
   "outputs": [],
   "source": [
    "import numpy as np"
   ]
  },
  {
   "cell_type": "code",
   "execution_count": 4,
   "metadata": {},
   "outputs": [
    {
     "data": {
      "text/plain": [
       "array([[0.75734803, 0.94884824],\n",
       "       [0.8787368 , 0.33840795],\n",
       "       [0.12737601, 0.49308477]])"
      ]
     },
     "execution_count": 4,
     "metadata": {},
     "output_type": "execute_result"
    }
   ],
   "source": [
    "np.random.rand (3,2)"
   ]
  },
  {
   "cell_type": "code",
   "execution_count": 5,
   "metadata": {},
   "outputs": [
    {
     "data": {
      "text/plain": [
       "array([[0.11641235, 0.32458175, 0.6387501 , 0.93582433, 0.17524711],\n",
       "       [0.16919503, 0.64589252, 0.69072993, 0.19481286, 0.39137178],\n",
       "       [0.87630608, 0.80770734, 0.39491069, 0.30626503, 0.1238803 ]])"
      ]
     },
     "execution_count": 5,
     "metadata": {},
     "output_type": "execute_result"
    }
   ],
   "source": [
    "np.random.rand (3,5)"
   ]
  },
  {
   "cell_type": "code",
   "execution_count": null,
   "metadata": {},
   "outputs": [],
   "source": []
  },
  {
   "cell_type": "markdown",
   "metadata": {},
   "source": [
    "Permutation: This has two function (Shuffle and Permutation) which shufle the contents to achieve a modification of the existing sequence, randomly permute/return a permuted range, respectively.\n",
    "\n",
    "Shuffle rearranges the the array along the first axis of a multidimensional array. The order is altered, however, the content remains the same.\n"
   ]
  },
  {
   "cell_type": "code",
   "execution_count": 7,
   "metadata": {},
   "outputs": [
    {
     "ename": "TypeError",
     "evalue": "len() of unsized object",
     "output_type": "error",
     "traceback": [
      "\u001b[1;31m---------------------------------------------------------------------------\u001b[0m",
      "\u001b[1;31mTypeError\u001b[0m                                 Traceback (most recent call last)",
      "\u001b[1;32m<ipython-input-7-d02186b621e7>\u001b[0m in \u001b[0;36m<module>\u001b[1;34m\u001b[0m\n\u001b[0;32m      1\u001b[0m \u001b[0marr\u001b[0m \u001b[1;33m=\u001b[0m \u001b[0mnp\u001b[0m\u001b[1;33m.\u001b[0m\u001b[0marray\u001b[0m\u001b[1;33m(\u001b[0m\u001b[1;36m10\u001b[0m\u001b[1;33m)\u001b[0m\u001b[1;33m\u001b[0m\u001b[1;33m\u001b[0m\u001b[0m\n\u001b[1;32m----> 2\u001b[1;33m \u001b[0mnp\u001b[0m\u001b[1;33m.\u001b[0m\u001b[0mrandom\u001b[0m\u001b[1;33m.\u001b[0m\u001b[0mshuffle\u001b[0m\u001b[1;33m(\u001b[0m\u001b[0marr\u001b[0m\u001b[1;33m)\u001b[0m\u001b[1;33m\u001b[0m\u001b[1;33m\u001b[0m\u001b[0m\n\u001b[0m\u001b[0;32m      3\u001b[0m \u001b[0marr\u001b[0m\u001b[1;33m\u001b[0m\u001b[1;33m\u001b[0m\u001b[0m\n",
      "\u001b[1;32mmtrand.pyx\u001b[0m in \u001b[0;36mmtrand.RandomState.shuffle\u001b[1;34m()\u001b[0m\n",
      "\u001b[1;31mTypeError\u001b[0m: len() of unsized object"
     ]
    }
   ],
   "source": [
    "arr = np.array(10)\n",
    "np.random.shuffle(arr)\n",
    "arr"
   ]
  },
  {
   "cell_type": "code",
   "execution_count": 8,
   "metadata": {},
   "outputs": [
    {
     "data": {
      "text/plain": [
       "array([7, 8, 2, 4, 5, 6, 0, 3, 9, 1])"
      ]
     },
     "execution_count": 8,
     "metadata": {},
     "output_type": "execute_result"
    }
   ],
   "source": [
    "arr = np.arange(10)\n",
    "np.random.shuffle(arr)\n",
    "arr"
   ]
  },
  {
   "cell_type": "code",
   "execution_count": null,
   "metadata": {},
   "outputs": [],
   "source": []
  },
  {
   "cell_type": "markdown",
   "metadata": {},
   "source": [
    "Use and Purpose of Distributions\n",
    "\n",
    "1. Uniform\n",
    "\n",
    "In probability theory and statistics, the continuous uniform distribution or rectangular distribution is a family of symmetric probability distributions such that for each member of the family, all intervals of the same length on the distribution's support are equally probable. The support is defined by the two parameters, a and b, which are its minimum and maximum values. The distribution is often abbreviated U(a,b). It is the maximum entropy probability distribution for a random variable X under no constraint other than that it is contained in the distribution's support (Source:Wikipedia)\n",
    "\n",
    "\n",
    "The function is very similar to .rand"
   ]
  },
  {
   "cell_type": "code",
   "execution_count": 9,
   "metadata": {},
   "outputs": [
    {
     "data": {
      "text/plain": [
       "array([-4.18888923,  4.07139832,  1.72419978,  1.390806  ,  4.79888526,\n",
       "        0.23039723,  5.1418187 , -3.05990972, -8.31762634, -1.34634696,\n",
       "        1.87178389,  2.54699298, -6.22017435, -1.06229167,  9.47898223,\n",
       "       -8.40342586, -4.28125006,  6.89226917,  1.40047648,  1.27208071,\n",
       "       -5.07732689,  2.5655237 , -4.39082112, -8.83615954, -3.682575  ,\n",
       "        1.71787031, -2.49818196, -0.59181677, -3.4519114 , -2.84154338,\n",
       "        2.58742707, -0.53342767, -3.81419133,  4.56083828, -7.194785  ,\n",
       "        4.00719475,  5.65213305,  3.12922576,  0.58777416,  6.65965953,\n",
       "        9.28986535, -0.15810914,  5.26187113, -8.53084328, -6.04361154,\n",
       "        7.98589402, -6.39302885, -2.51910647,  2.90263263,  1.7904157 ,\n",
       "       -2.58363112,  9.12551837,  2.82961956,  0.65093021,  3.05107337,\n",
       "       -5.42186546, -0.34146532,  7.33216014, -8.53103313,  2.51773802,\n",
       "        6.90506677,  0.19901986,  2.84339877,  9.7528786 ,  3.66524843,\n",
       "        9.16622736, -5.15324821, -2.51095289,  2.56946091,  0.18341502,\n",
       "       -3.88539356,  4.14454704, -2.3238403 , -3.22690891, -2.93514253,\n",
       "        4.58879231,  6.95833961,  1.16160112, -5.91425515,  2.17391239,\n",
       "        4.75749234, -3.00027304,  8.02950197, -0.21130285,  8.38907117,\n",
       "       -1.68814063,  8.64316709,  2.27824276, -0.4634278 ,  6.43158921,\n",
       "       -8.48244091, -2.82632883,  1.53113769, -6.91855666, -2.95157685,\n",
       "        5.03645949,  4.74314035, -1.85825909,  1.7457536 , -2.60839344])"
      ]
     },
     "execution_count": 9,
     "metadata": {},
     "output_type": "execute_result"
    }
   ],
   "source": [
    "np.random.uniform(-9,10, 100)"
   ]
  },
  {
   "cell_type": "code",
   "execution_count": null,
   "metadata": {},
   "outputs": [],
   "source": []
  }
 ],
 "metadata": {
  "kernelspec": {
   "display_name": "Python 3",
   "language": "python",
   "name": "python3"
  },
  "language_info": {
   "codemirror_mode": {
    "name": "ipython",
    "version": 3
   },
   "file_extension": ".py",
   "mimetype": "text/x-python",
   "name": "python",
   "nbconvert_exporter": "python",
   "pygments_lexer": "ipython3",
   "version": "3.7.3"
  }
 },
 "nbformat": 4,
 "nbformat_minor": 2
}
