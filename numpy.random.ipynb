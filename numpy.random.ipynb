{
 "cells": [
  {
   "cell_type": "markdown",
   "metadata": {},
   "source": [
    "# The numpy.random package\n"
   ]
  },
  {
   "cell_type": "markdown",
   "metadata": {},
   "source": [
    "Overall Purpose This a sub-package of the Numpy Package in Python, the lather being a specialist package for dealing with multidimensional array of data/numbers (lists embedded within lists) in a matrix operation.\n",
    "Numpy.random package effectively deals with the array of number, and generates a simulated data, when it may not be feasible to obtain the actual raw data\n",
    "In [ ]:\n",
    "\n",
    "\n"
   ]
  },
  {
   "cell_type": "code",
   "execution_count": null,
   "metadata": {},
   "outputs": [],
   "source": []
  },
  {
   "cell_type": "markdown",
   "metadata": {},
   "source": [
    "Simple Random Data\n",
    "This is used to generate random data for everyday assignment, based on variuos assumptions. There a ten (10) functions with varying outputs. The first one if the .rand function. This .rand function creates an array of in the given shape and populate it with random samples from a uniform distribution. e.g. (3, 2) or (3,5)"
   ]
  },
  {
   "cell_type": "code",
   "execution_count": 3,
   "metadata": {},
   "outputs": [],
   "source": [
    "import numpy as np"
   ]
  },
  {
   "cell_type": "code",
   "execution_count": 4,
   "metadata": {},
   "outputs": [
    {
     "data": {
      "text/plain": [
       "array([[0.75734803, 0.94884824],\n",
       "       [0.8787368 , 0.33840795],\n",
       "       [0.12737601, 0.49308477]])"
      ]
     },
     "execution_count": 4,
     "metadata": {},
     "output_type": "execute_result"
    }
   ],
   "source": [
    "np.random.rand (3,2)"
   ]
  },
  {
   "cell_type": "code",
   "execution_count": 5,
   "metadata": {},
   "outputs": [
    {
     "data": {
      "text/plain": [
       "array([[0.11641235, 0.32458175, 0.6387501 , 0.93582433, 0.17524711],\n",
       "       [0.16919503, 0.64589252, 0.69072993, 0.19481286, 0.39137178],\n",
       "       [0.87630608, 0.80770734, 0.39491069, 0.30626503, 0.1238803 ]])"
      ]
     },
     "execution_count": 5,
     "metadata": {},
     "output_type": "execute_result"
    }
   ],
   "source": [
    "np.random.rand (3,5)"
   ]
  },
  {
   "cell_type": "code",
   "execution_count": null,
   "metadata": {},
   "outputs": [],
   "source": []
  },
  {
   "cell_type": "markdown",
   "metadata": {},
   "source": [
    "Permutation: This has two function (Shuffle and Permutation) which shufle the contents to achieve a modification of the existing sequence, randomly permute/return a permuted range, respectively.\n",
    "\n",
    "Shuffle rearranges the the array along the first axis of a multidimensional array. The order is altered, however, the content remains the same.\n"
   ]
  },
  {
   "cell_type": "code",
   "execution_count": null,
   "metadata": {},
   "outputs": [],
   "source": []
  }
 ],
 "metadata": {
  "kernelspec": {
   "display_name": "Python 3",
   "language": "python",
   "name": "python3"
  },
  "language_info": {
   "codemirror_mode": {
    "name": "ipython",
    "version": 3
   },
   "file_extension": ".py",
   "mimetype": "text/x-python",
   "name": "python",
   "nbconvert_exporter": "python",
   "pygments_lexer": "ipython3",
   "version": "3.7.3"
  }
 },
 "nbformat": 4,
 "nbformat_minor": 2
}
